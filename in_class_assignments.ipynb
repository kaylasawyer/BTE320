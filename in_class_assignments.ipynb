{
  "nbformat": 4,
  "nbformat_minor": 0,
  "metadata": {
    "colab": {
      "provenance": [],
      "authorship_tag": "ABX9TyOFu2jd6PvhVAiXmre5jAdN",
      "include_colab_link": true
    },
    "kernelspec": {
      "name": "python3",
      "display_name": "Python 3"
    },
    "language_info": {
      "name": "python"
    }
  },
  "cells": [
    {
      "cell_type": "markdown",
      "metadata": {
        "id": "view-in-github",
        "colab_type": "text"
      },
      "source": [
        "<a href=\"https://colab.research.google.com/github/kaylasawyer/BTE320/blob/main/in_class_assignments.ipynb\" target=\"_parent\"><img src=\"https://colab.research.google.com/assets/colab-badge.svg\" alt=\"Open In Colab\"/></a>"
      ]
    },
    {
      "cell_type": "code",
      "execution_count": null,
      "metadata": {
        "colab": {
          "base_uri": "https://localhost:8080/"
        },
        "id": "Gz6p8Ee_kL5_",
        "outputId": "212357d6-653e-4924-f389-7b68738999eb"
      },
      "outputs": [
        {
          "output_type": "stream",
          "name": "stdout",
          "text": [
            "244.92000000000002\n"
          ]
        }
      ],
      "source": [
        "h = 10\n",
        "r = 3\n",
        "pi = 3.14\n",
        "\n",
        "Area = (2 * pi * r * h) + (2 * pi * r ** 2)\n",
        "print(Area)"
      ]
    },
    {
      "cell_type": "code",
      "source": [
        "p1 = input('What move did Player 1 make (rock/paper/scissors): ')\n",
        "p2 = input('What move did Player 2 make (rock/paper/scissors): ')\n",
        "\n",
        "if p1 == p2:\n",
        "  print('Draw')\n",
        "elif p1 == 'rock':\n",
        "  if p2 == 'paper':\n",
        "    print('Player 2 won')\n",
        "  elif p2 == 'scissors':\n",
        "    print('Player 1 won')\n",
        "elif p1 == 'paper':\n",
        "  if p2 == 'rock':\n",
        "    print('Player 1 won')\n",
        "  elif p2 == 'scissors':\n",
        "    print('Player 2 won')\n",
        "elif p1 == 'scissors':\n",
        "  if p2 == 'rock':\n",
        "    print('Player 2 won')\n",
        "  elif p2 == 'paper':\n",
        "    print('Player 1 won')\n"
      ],
      "metadata": {
        "colab": {
          "base_uri": "https://localhost:8080/"
        },
        "id": "2bSeoE6msRBy",
        "outputId": "b6229947-0613-4264-c03b-05247924752b"
      },
      "execution_count": null,
      "outputs": [
        {
          "output_type": "stream",
          "name": "stdout",
          "text": [
            "What move did Player 1 make (rock/paper/scissors): paper\n",
            "What move did Player 2 make (rock/paper/scissors): scissors\n",
            "Player 2 won\n"
          ]
        }
      ]
    },
    {
      "cell_type": "code",
      "source": [
        "import random\n",
        "answer = input('Do you want to play the game? ')\n",
        "\n",
        "while answer == 'yes':\n",
        "  p1 = input('What move did Player 1 make (rock/paper/scissors): ')\n",
        "  p2 = random.choice(['rock', 'paper', 'scissors'])\n",
        "\n",
        "  print(f'Player chose {p1} and Computer chose {p2}')\n",
        "\n",
        "  if p1 == p2:\n",
        "    print('Draw')\n",
        "  elif p1 == 'rock':\n",
        "    if p2 == 'paper':\n",
        "      print('Computer won')\n",
        "    elif p2 == 'scissors':\n",
        "      print('Player 1 won')\n",
        "  elif p1 == 'paper':\n",
        "    if p2 == 'rock':\n",
        "      print('Player 1 won')\n",
        "    elif p2 == 'scissors':\n",
        "      print('Computer won')\n",
        "  elif p1 == 'scissors':\n",
        "    if p2 == 'rock':\n",
        "      print('Computer won')\n",
        "    elif p2 == 'paper':\n",
        "      print('Player 1 won')\n",
        "  answer = input('Do you want to play another game? ')\n",
        "print('Thanks for playing')"
      ],
      "metadata": {
        "colab": {
          "base_uri": "https://localhost:8080/"
        },
        "id": "tBuvYxVfyn1e",
        "outputId": "be7d8c8c-2a2c-4dd3-883a-63e2a07db957"
      },
      "execution_count": null,
      "outputs": [
        {
          "output_type": "stream",
          "name": "stdout",
          "text": [
            "Do you want to play the game? yes\n",
            "What move did Player 1 make (rock/paper/scissors): rock\n",
            "Player chose rock and Computer chose paper\n",
            "Computer won\n",
            "Do you want to play another game? no\n",
            "Thanks for playing\n"
          ]
        }
      ]
    },
    {
      "cell_type": "code",
      "source": [
        "num1 = int(input('Enter first number: '))\n",
        "operation = input('Enter operation (+, -, /, *, **): ')\n",
        "num2 = int(input('Enter second number: '))\n",
        "\n",
        "if operation == '+':\n",
        "  print(num1 + num2)\n",
        "elif operation == '-':\n",
        "  print(num1 - num2)\n",
        "elif operation == '/':\n",
        "  print(num1 / num2)\n",
        "elif operation == '*':\n",
        "  print(num1 * num2)\n",
        "elif operation == '**':\n",
        "  print(num1 ** num2)\n"
      ],
      "metadata": {
        "colab": {
          "base_uri": "https://localhost:8080/"
        },
        "id": "TGFHvDdv4_XG",
        "outputId": "9bdad72f-11e2-4296-e0c3-c0e2377f391e"
      },
      "execution_count": null,
      "outputs": [
        {
          "output_type": "stream",
          "name": "stdout",
          "text": [
            "Enter first number: 5\n",
            "Enter operation (+, -, /, *, **): +\n",
            "Enter second number: 5\n",
            "10\n"
          ]
        }
      ]
    },
    {
      "cell_type": "code",
      "source": [
        "floor_rate = 5\n",
        "hourly_rate = 2.5\n",
        "\n",
        "for i in range(1,9,1):\n",
        "  charge = floor_rate + (i * hourly_rate)\n",
        "  if charge < 10:\n",
        "    charge = 10\n",
        "  elif charge > 20:\n",
        "    charge = 20\n",
        "  print(i, charge)"
      ],
      "metadata": {
        "colab": {
          "base_uri": "https://localhost:8080/"
        },
        "id": "VgXRUPQ1sxn4",
        "outputId": "adc4e740-2ea7-4c65-8aff-06c7c94ceb7d"
      },
      "execution_count": null,
      "outputs": [
        {
          "output_type": "stream",
          "name": "stdout",
          "text": [
            "1 10\n",
            "2 10.0\n",
            "3 12.5\n",
            "4 15.0\n",
            "5 17.5\n",
            "6 20.0\n",
            "7 20\n",
            "8 20\n"
          ]
        }
      ]
    },
    {
      "cell_type": "code",
      "source": [
        "ticket = 10\n",
        "fixed_cost = 200\n",
        "fixed_attendees = 20\n",
        "\n",
        "for ad in range(0,201,25):\n",
        "  add_atendees = 2 * round(ad ** .5)\n",
        "  profit = (fixed_attendees * ticket) + (ticket * add_atendees) - fixed_cost - ad\n",
        "  print(ad,profit)"
      ],
      "metadata": {
        "colab": {
          "base_uri": "https://localhost:8080/"
        },
        "id": "QICqMJVLs48K",
        "outputId": "7daaafa7-5823-4227-9e2b-b118fc670c6a"
      },
      "execution_count": null,
      "outputs": [
        {
          "output_type": "stream",
          "name": "stdout",
          "text": [
            "0 0\n",
            "25 75\n",
            "50 90\n",
            "75 105\n",
            "100 100\n",
            "125 95\n",
            "150 90\n",
            "175 85\n",
            "200 80\n"
          ]
        }
      ]
    },
    {
      "cell_type": "code",
      "source": [
        "t = '123456'"
      ],
      "metadata": {
        "id": "n6Xg5eSu1joB"
      },
      "execution_count": null,
      "outputs": []
    },
    {
      "cell_type": "code",
      "source": [
        "t[1:-1] == t[1:5] == t[1:len(t)-1]"
      ],
      "metadata": {
        "colab": {
          "base_uri": "https://localhost:8080/"
        },
        "id": "rsLOziHN1l2-",
        "outputId": "8fb1c855-af66-4509-ec1f-d7fa0bd7e0bd"
      },
      "execution_count": null,
      "outputs": [
        {
          "output_type": "execute_result",
          "data": {
            "text/plain": [
              "True"
            ]
          },
          "metadata": {},
          "execution_count": 5
        }
      ]
    },
    {
      "cell_type": "code",
      "source": [
        "months = {}\n",
        "\n",
        "names = [\"Jan\", \"Feb\", \"Mar\", \"Apr\", \"May\", \"Jun\", \"Jul\", \"Aug\", \"Sep\", \"Oct\", \"Nov\", \"Dec\"]\n",
        "numbers = [1, 2, 3, 4, 5, 6, 7, 8, 9, 10, 11, 12]\n",
        "\n",
        "for i in range(len(names)):\n",
        "  months[names[i]] = numbers[i]\n",
        "print(months)"
      ],
      "metadata": {
        "colab": {
          "base_uri": "https://localhost:8080/"
        },
        "id": "EP1xESrb43py",
        "outputId": "0e92118d-5e32-4cdd-bbfb-a0058e81446e"
      },
      "execution_count": null,
      "outputs": [
        {
          "output_type": "stream",
          "name": "stdout",
          "text": [
            "{'Jan': 1, 'Feb': 2, 'Mar': 3, 'Apr': 4, 'May': 5, 'Jun': 6, 'Jul': 7, 'Aug': 8, 'Sep': 9, 'Oct': 10, 'Nov': 11, 'Dec': 12}\n"
          ]
        }
      ]
    },
    {
      "cell_type": "code",
      "source": [
        "if months % 6 == 0:\n"
      ],
      "metadata": {
        "id": "jj6hAxjbKIT9"
      },
      "execution_count": null,
      "outputs": []
    },
    {
      "cell_type": "code",
      "source": [
        "def calculate_months_to_save_for_down_payment(annual_salary, portion_saved, total_cost, r=0.04, portion_down_payment=0.25):\n",
        "    current_savings = 0.0\n",
        "    monthly_salary = annual_salary / 12\n",
        "    down_payment = total_cost * portion_down_payment\n",
        "    months = 0\n",
        "\n",
        "    while current_savings < down_payment:\n",
        "        current_savings = current_savings + (current_savings * r / 12)  # investment return\n",
        "        current_savings = current_savings + (portion_saved * monthly_salary)  # savings from salary\n",
        "        months = months + 1\n",
        "\n",
        "    return months"
      ],
      "metadata": {
        "id": "ZxrjJdpgMzxF"
      },
      "execution_count": null,
      "outputs": []
    },
    {
      "cell_type": "code",
      "source": [
        "calculate_months_to_save_for_down_payment(120000, 0.1, 1000000)"
      ],
      "metadata": {
        "colab": {
          "base_uri": "https://localhost:8080/"
        },
        "id": "7L51C2LKM7Ld",
        "outputId": "ffd8c488-890d-498e-8202-cb6c3bb712ea"
      },
      "execution_count": null,
      "outputs": [
        {
          "output_type": "execute_result",
          "data": {
            "text/plain": [
              "183"
            ]
          },
          "metadata": {},
          "execution_count": 23
        }
      ]
    },
    {
      "cell_type": "code",
      "source": [
        "def calculate_months_to_save_with_raise(annual_salary, portion_saved, total_cost, semi_annual_raise, r=0.04, portion_down_payment=0.25):\n",
        "    current_savings = 0.0\n",
        "    monthly_salary = annual_salary / 12\n",
        "    down_payment = total_cost * portion_down_payment\n",
        "    months = 0\n",
        "\n",
        "    while current_savings < down_payment:\n",
        "        current_savings = current_savings + (current_savings * r / 12)\n",
        "        current_savings = current_savings + (portion_saved * monthly_salary)\n",
        "        months = months + 1\n",
        "\n",
        "        if months % 6 == 0:\n",
        "            annual_salary = annual_salary + (annual_salary * semi_annual_raise)\n",
        "            monthly_salary = annual_salary / 12\n",
        "\n",
        "    return months"
      ],
      "metadata": {
        "id": "MIBd_1dANdlt"
      },
      "execution_count": null,
      "outputs": []
    },
    {
      "cell_type": "code",
      "source": [
        "calculate_months_to_save_with_raise(120000, 0.1, 1000000, 0.07)"
      ],
      "metadata": {
        "colab": {
          "base_uri": "https://localhost:8080/"
        },
        "id": "eJj1jhSQNfMg",
        "outputId": "33a366ed-67b7-451f-d0f0-8e82301c0c91"
      },
      "execution_count": null,
      "outputs": [
        {
          "output_type": "execute_result",
          "data": {
            "text/plain": [
              "112"
            ]
          },
          "metadata": {},
          "execution_count": 21
        }
      ]
    },
    {
      "cell_type": "code",
      "source": [
        "def range_check(num, low, high):\n",
        "  if num >= low and num <= high:\n",
        "    return True\n",
        "  else:\n",
        "    return False"
      ],
      "metadata": {
        "id": "9cTBjOfBQ-Ie"
      },
      "execution_count": null,
      "outputs": []
    },
    {
      "cell_type": "code",
      "source": [
        "range_check(5,6,7)"
      ],
      "metadata": {
        "colab": {
          "base_uri": "https://localhost:8080/"
        },
        "id": "bwRe6TsxR_IG",
        "outputId": "6b1e9c74-b605-48dd-ba72-e59f1c127e90"
      },
      "execution_count": null,
      "outputs": [
        {
          "output_type": "execute_result",
          "data": {
            "text/plain": [
              "False"
            ]
          },
          "metadata": {},
          "execution_count": 15
        }
      ]
    },
    {
      "cell_type": "code",
      "source": [
        "res = range_check(low=1, high=3, num=2) # keywords, doesn't require any order\n",
        "print(res)"
      ],
      "metadata": {
        "colab": {
          "base_uri": "https://localhost:8080/"
        },
        "id": "NCiEd6FATZF0",
        "outputId": "6b363dd5-cf49-4831-f209-8377d5089ee6"
      },
      "execution_count": null,
      "outputs": [
        {
          "output_type": "stream",
          "name": "stdout",
          "text": [
            "True\n"
          ]
        }
      ]
    },
    {
      "cell_type": "code",
      "source": [
        "def calcFee(hours):\n",
        "  return (hours * 2.5) + 5\n",
        "\n",
        "hours = int(input('Enter hours: '))\n",
        "print(calcFee(hours))"
      ],
      "metadata": {
        "colab": {
          "base_uri": "https://localhost:8080/"
        },
        "id": "zccK16BF9zUD",
        "outputId": "ca3a7563-0566-4b42-a183-3b12b38786f5"
      },
      "execution_count": null,
      "outputs": [
        {
          "output_type": "stream",
          "name": "stdout",
          "text": [
            "Enter hours: 2\n",
            "10.0\n"
          ]
        }
      ]
    },
    {
      "cell_type": "code",
      "source": [
        "def calcFee(hours, decimals = 2):\n",
        "  fee = 5 + (hours * 2.5)\n",
        "  fee = round(fee, decimals)\n",
        "  return fee\n",
        "\n",
        "def displayFee(fee):\n",
        "  print(fee)\n",
        "\n",
        "hours = int(input('Enter hours: '))\n",
        "fee = calcFee(hours, decimals=0)\n",
        "displayFee(fee)"
      ],
      "metadata": {
        "colab": {
          "base_uri": "https://localhost:8080/"
        },
        "id": "jD63pBZ5CZjZ",
        "outputId": "4e0b841e-9b42-4c55-f3c3-408e662902dd"
      },
      "execution_count": null,
      "outputs": [
        {
          "output_type": "stream",
          "name": "stdout",
          "text": [
            "Enter hours: 5\n",
            "18.0\n"
          ]
        }
      ]
    },
    {
      "cell_type": "code",
      "source": [
        "def revs(s):\n",
        "  if len(s) == 1:\n",
        "    return s\n",
        "  else:\n",
        "    return s[::-1]\n",
        "\n",
        "s = input('Enter string: ')\n",
        "print(revs(s))"
      ],
      "metadata": {
        "colab": {
          "base_uri": "https://localhost:8080/"
        },
        "id": "s96fCsPGHY7e",
        "outputId": "dfbdb4ca-045c-439d-e041-a186630d7a41"
      },
      "execution_count": null,
      "outputs": [
        {
          "output_type": "stream",
          "name": "stdout",
          "text": [
            "Enter string: yard\n",
            "dray\n"
          ]
        }
      ]
    },
    {
      "cell_type": "code",
      "source": [
        "def quickSort(L):\n",
        "  if len(L) <= 1:\n",
        "    return L\n",
        "  else:\n",
        "    pivot = L[len(L) // 2]\n",
        "    less = []\n",
        "    equal = []\n",
        "    more = []\n",
        "\n",
        "    for el in L:\n",
        "      if el < pivot:\n",
        "        less.append(el)\n",
        "      elif el > pivot:\n",
        "        more.append(el)\n",
        "      else:\n",
        "        equal.append(el)\n",
        "\n",
        "    return quickSort(less) + equal + quickSort(more)\n",
        "quickSort([5,4,3,2,1])"
      ],
      "metadata": {
        "colab": {
          "base_uri": "https://localhost:8080/"
        },
        "id": "-XesHnGVY0qJ",
        "outputId": "7ba3127e-8c30-49a6-d304-319be8a77203"
      },
      "execution_count": null,
      "outputs": [
        {
          "output_type": "execute_result",
          "data": {
            "text/plain": [
              "[1, 2, 3, 4, 5]"
            ]
          },
          "metadata": {},
          "execution_count": 1
        }
      ]
    },
    {
      "cell_type": "code",
      "source": [
        "def wAvg(L, w):\n",
        "  try:\n",
        "    res = []\n",
        "    for i in range(len(L)):\n",
        "      res.append(L[i] * w[i])\n",
        "    return sum(res)/sum(w)\n",
        "  except ZeroDivisionError:\n",
        "    print('Zero Division Error')\n",
        "    return []\n",
        "  except TypeError:\n",
        "    print('Type Error')\n",
        "    return []\n",
        "  except Exception as e:\n",
        "    print('Unkown error:', e)\n",
        "    return float('nan')\n",
        "\n",
        "wAvg([1,2,3], [1, 0, -1])"
      ],
      "metadata": {
        "colab": {
          "base_uri": "https://localhost:8080/"
        },
        "id": "vIg3TdgNgM1C",
        "outputId": "9bc2c959-9617-4b09-ca69-f1f7a7585ff5"
      },
      "execution_count": null,
      "outputs": [
        {
          "output_type": "stream",
          "name": "stdout",
          "text": [
            "Zero Division Error\n"
          ]
        },
        {
          "output_type": "execute_result",
          "data": {
            "text/plain": [
              "[]"
            ]
          },
          "metadata": {},
          "execution_count": 21
        }
      ]
    },
    {
      "cell_type": "code",
      "source": [
        "class Student:\n",
        "  def __init__(self, name, number):\n",
        "    self.name = name\n",
        "    self.number = number\n",
        "\n",
        "  def __str__(self):\n",
        "    return f'{self.name} {self.number}'\n",
        ""
      ],
      "metadata": {
        "id": "N-_U9jfyYsa1"
      },
      "execution_count": 16,
      "outputs": []
    },
    {
      "cell_type": "code",
      "source": [
        "s1 = Student('Bob', \"123\")\n",
        "s2 = Student('Alice', \"456\")\n",
        "\n",
        "s1.name"
      ],
      "metadata": {
        "colab": {
          "base_uri": "https://localhost:8080/",
          "height": 35
        },
        "id": "bHgyBO43ajZC",
        "outputId": "2160b883-a6df-4bd8-f8bb-948e19a71037"
      },
      "execution_count": 17,
      "outputs": [
        {
          "output_type": "execute_result",
          "data": {
            "text/plain": [
              "'Bob'"
            ],
            "application/vnd.google.colaboratory.intrinsic+json": {
              "type": "string"
            }
          },
          "metadata": {},
          "execution_count": 17
        }
      ]
    },
    {
      "cell_type": "code",
      "source": [
        "print(s1, s2)"
      ],
      "metadata": {
        "colab": {
          "base_uri": "https://localhost:8080/"
        },
        "id": "FJsZS3hxdHnY",
        "outputId": "66f0775a-3bff-43c2-f075-81478ff195cb"
      },
      "execution_count": 19,
      "outputs": [
        {
          "output_type": "stream",
          "name": "stdout",
          "text": [
            "Bob 123 Alice 456\n"
          ]
        }
      ]
    }
  ]
}