{
  "nbformat": 4,
  "nbformat_minor": 0,
  "metadata": {
    "colab": {
      "provenance": [],
      "authorship_tag": "ABX9TyMWkIuLrmVGVTrnFmvkTyvA",
      "include_colab_link": true
    },
    "kernelspec": {
      "name": "python3",
      "display_name": "Python 3"
    },
    "language_info": {
      "name": "python"
    }
  },
  "cells": [
    {
      "cell_type": "markdown",
      "metadata": {
        "id": "view-in-github",
        "colab_type": "text"
      },
      "source": [
        "<a href=\"https://colab.research.google.com/github/kaylasawyer/BTE320/blob/main/in_class_assignments.ipynb\" target=\"_parent\"><img src=\"https://colab.research.google.com/assets/colab-badge.svg\" alt=\"Open In Colab\"/></a>"
      ]
    },
    {
      "cell_type": "code",
      "execution_count": null,
      "metadata": {
        "colab": {
          "base_uri": "https://localhost:8080/"
        },
        "id": "Gz6p8Ee_kL5_",
        "outputId": "212357d6-653e-4924-f389-7b68738999eb"
      },
      "outputs": [
        {
          "output_type": "stream",
          "name": "stdout",
          "text": [
            "244.92000000000002\n"
          ]
        }
      ],
      "source": [
        "h = 10\n",
        "r = 3\n",
        "pi = 3.14\n",
        "\n",
        "Area = (2 * pi * r * h) + (2 * pi * r ** 2)\n",
        "print(Area)"
      ]
    },
    {
      "cell_type": "code",
      "source": [
        "p1 = input('What move did Player 1 make (rock/paper/scissors): ')\n",
        "p2 = input('What move did Player 2 make (rock/paper/scissors): ')\n",
        "\n",
        "if p1 == p2:\n",
        "  print('Draw')\n",
        "elif p1 == 'rock':\n",
        "  if p2 == 'paper':\n",
        "    print('Player 2 won')\n",
        "  elif p2 == 'scissors':\n",
        "    print('Player 1 won')\n",
        "elif p1 == 'paper':\n",
        "  if p2 == 'rock':\n",
        "    print('Player 1 won')\n",
        "  elif p2 == 'scissors':\n",
        "    print('Player 2 won')\n",
        "elif p1 == 'scissors':\n",
        "  if p2 == 'rock':\n",
        "    print('Player 2 won')\n",
        "  elif p2 == 'paper':\n",
        "    print('Player 1 won')\n"
      ],
      "metadata": {
        "colab": {
          "base_uri": "https://localhost:8080/"
        },
        "id": "2bSeoE6msRBy",
        "outputId": "b6229947-0613-4264-c03b-05247924752b"
      },
      "execution_count": null,
      "outputs": [
        {
          "output_type": "stream",
          "name": "stdout",
          "text": [
            "What move did Player 1 make (rock/paper/scissors): paper\n",
            "What move did Player 2 make (rock/paper/scissors): scissors\n",
            "Player 2 won\n"
          ]
        }
      ]
    },
    {
      "cell_type": "code",
      "source": [
        "num1 = int(input('Enter first number: '))\n",
        "operation = input('Enter operation (+, -, /, *, **): ')\n",
        "num2 = int(input('Enter second number: '))\n",
        "\n",
        "if operation == '+':\n",
        "  print(num1 + num2)\n",
        "elif operation == '-':\n",
        "  print(num1 - num2)\n",
        "elif operation == '/':\n",
        "  print(num1 / num2)\n",
        "elif operation == '*':\n",
        "  print(num1 * num2)\n",
        "elif operation == '**':\n",
        "  print(num1 ** num2)"
      ],
      "metadata": {
        "colab": {
          "base_uri": "https://localhost:8080/"
        },
        "id": "TGFHvDdv4_XG",
        "outputId": "1e15b0d8-e23f-4c0f-dffe-c4215ec9a5c9"
      },
      "execution_count": 4,
      "outputs": [
        {
          "output_type": "stream",
          "name": "stdout",
          "text": [
            "Enter first number: 64\n",
            "Enter operation (+, -, /, *, **): /\n",
            "Enter second number: 8\n",
            "8.0\n"
          ]
        }
      ]
    }
  ]
}