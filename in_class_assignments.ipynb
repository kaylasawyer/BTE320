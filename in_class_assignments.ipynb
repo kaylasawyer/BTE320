{
  "nbformat": 4,
  "nbformat_minor": 0,
  "metadata": {
    "colab": {
      "provenance": [],
      "authorship_tag": "ABX9TyNFLbt+BrErSpeh4D0VU/zw",
      "include_colab_link": true
    },
    "kernelspec": {
      "name": "python3",
      "display_name": "Python 3"
    },
    "language_info": {
      "name": "python"
    }
  },
  "cells": [
    {
      "cell_type": "markdown",
      "metadata": {
        "id": "view-in-github",
        "colab_type": "text"
      },
      "source": [
        "<a href=\"https://colab.research.google.com/github/kaylasawyer/BTE320/blob/main/in_class_assignments.ipynb\" target=\"_parent\"><img src=\"https://colab.research.google.com/assets/colab-badge.svg\" alt=\"Open In Colab\"/></a>"
      ]
    },
    {
      "cell_type": "code",
      "execution_count": null,
      "metadata": {
        "colab": {
          "base_uri": "https://localhost:8080/"
        },
        "id": "Gz6p8Ee_kL5_",
        "outputId": "212357d6-653e-4924-f389-7b68738999eb"
      },
      "outputs": [
        {
          "output_type": "stream",
          "name": "stdout",
          "text": [
            "244.92000000000002\n"
          ]
        }
      ],
      "source": [
        "h = 10\n",
        "r = 3\n",
        "pi = 3.14\n",
        "\n",
        "Area = (2 * pi * r * h) + (2 * pi * r ** 2)\n",
        "print(Area)"
      ]
    },
    {
      "cell_type": "code",
      "source": [
        "p1 = input('What move did Player 1 make (rock/paper/scissors): ')\n",
        "p2 = input('What move did Player 2 make (rock/paper/scissors): ')\n",
        "\n",
        "if p1 == p2:\n",
        "  print('Draw')\n",
        "elif p1 == 'rock':\n",
        "  if p2 == 'paper':\n",
        "    print('Player 2 won')\n",
        "  elif p2 == 'scissors':\n",
        "    print('Player 1 won')\n",
        "elif p1 == 'paper':\n",
        "  if p2 == 'rock':\n",
        "    print('Player 1 won')\n",
        "  elif p2 == 'scissors':\n",
        "    print('Player 2 won')\n",
        "elif p1 == 'scissors':\n",
        "  if p2 == 'rock':\n",
        "    print('Player 2 won')\n",
        "  elif p2 == 'paper':\n",
        "    print('Player 1 won')\n"
      ],
      "metadata": {
        "colab": {
          "base_uri": "https://localhost:8080/"
        },
        "id": "2bSeoE6msRBy",
        "outputId": "b6229947-0613-4264-c03b-05247924752b"
      },
      "execution_count": null,
      "outputs": [
        {
          "output_type": "stream",
          "name": "stdout",
          "text": [
            "What move did Player 1 make (rock/paper/scissors): paper\n",
            "What move did Player 2 make (rock/paper/scissors): scissors\n",
            "Player 2 won\n"
          ]
        }
      ]
    },
    {
      "cell_type": "code",
      "source": [
        "import random\n",
        "answer = input('Do you want to play the game? ')\n",
        "\n",
        "while answer == 'yes':\n",
        "  p1 = input('What move did Player 1 make (rock/paper/scissors): ')\n",
        "  p2 = random.choice(['rock', 'paper', 'scissors'])\n",
        "\n",
        "  print(f'Player chose {p1} and Computer chose {p2}')\n",
        "\n",
        "  if p1 == p2:\n",
        "    print('Draw')\n",
        "  elif p1 == 'rock':\n",
        "    if p2 == 'paper':\n",
        "      print('Computer won')\n",
        "    elif p2 == 'scissors':\n",
        "      print('Player 1 won')\n",
        "  elif p1 == 'paper':\n",
        "    if p2 == 'rock':\n",
        "      print('Player 1 won')\n",
        "    elif p2 == 'scissors':\n",
        "      print('Computer won')\n",
        "  elif p1 == 'scissors':\n",
        "    if p2 == 'rock':\n",
        "      print('Computer won')\n",
        "    elif p2 == 'paper':\n",
        "      print('Player 1 won')\n",
        "  answer = input('Do you want to play another game? ')\n",
        "print('Thanks for playing')"
      ],
      "metadata": {
        "colab": {
          "base_uri": "https://localhost:8080/"
        },
        "id": "tBuvYxVfyn1e",
        "outputId": "be7d8c8c-2a2c-4dd3-883a-63e2a07db957"
      },
      "execution_count": null,
      "outputs": [
        {
          "output_type": "stream",
          "name": "stdout",
          "text": [
            "Do you want to play the game? yes\n",
            "What move did Player 1 make (rock/paper/scissors): rock\n",
            "Player chose rock and Computer chose paper\n",
            "Computer won\n",
            "Do you want to play another game? no\n",
            "Thanks for playing\n"
          ]
        }
      ]
    },
    {
      "cell_type": "code",
      "source": [
        "num1 = int(input('Enter first number: '))\n",
        "operation = input('Enter operation (+, -, /, *, **): ')\n",
        "num2 = int(input('Enter second number: '))\n",
        "\n",
        "if operation == '+':\n",
        "  print(num1 + num2)\n",
        "elif operation == '-':\n",
        "  print(num1 - num2)\n",
        "elif operation == '/':\n",
        "  print(num1 / num2)\n",
        "elif operation == '*':\n",
        "  print(num1 * num2)\n",
        "elif operation == '**':\n",
        "  print(num1 ** num2)\n"
      ],
      "metadata": {
        "colab": {
          "base_uri": "https://localhost:8080/"
        },
        "id": "TGFHvDdv4_XG",
        "outputId": "9bdad72f-11e2-4296-e0c3-c0e2377f391e"
      },
      "execution_count": null,
      "outputs": [
        {
          "output_type": "stream",
          "name": "stdout",
          "text": [
            "Enter first number: 5\n",
            "Enter operation (+, -, /, *, **): +\n",
            "Enter second number: 5\n",
            "10\n"
          ]
        }
      ]
    },
    {
      "cell_type": "code",
      "source": [
        "floor_rate = 5\n",
        "hourly_rate = 2.5\n",
        "\n",
        "for i in range(1,9,1):\n",
        "  charge = floor_rate + (i * hourly_rate)\n",
        "  if charge < 10:\n",
        "    charge = 10\n",
        "  elif charge > 20:\n",
        "    charge = 20\n",
        "  print(i, charge)"
      ],
      "metadata": {
        "colab": {
          "base_uri": "https://localhost:8080/"
        },
        "id": "VgXRUPQ1sxn4",
        "outputId": "adc4e740-2ea7-4c65-8aff-06c7c94ceb7d"
      },
      "execution_count": null,
      "outputs": [
        {
          "output_type": "stream",
          "name": "stdout",
          "text": [
            "1 10\n",
            "2 10.0\n",
            "3 12.5\n",
            "4 15.0\n",
            "5 17.5\n",
            "6 20.0\n",
            "7 20\n",
            "8 20\n"
          ]
        }
      ]
    },
    {
      "cell_type": "code",
      "source": [
        "ticket = 10\n",
        "fixed_cost = 200\n",
        "fixed_attendees = 20\n",
        "\n",
        "for ad in range(0,201,25):\n",
        "  add_atendees = 2 * round(ad ** .5)\n",
        "  profit = (fixed_attendees * ticket) + (ticket * add_atendees) - fixed_cost - ad\n",
        "  print(ad,profit)"
      ],
      "metadata": {
        "colab": {
          "base_uri": "https://localhost:8080/"
        },
        "id": "QICqMJVLs48K",
        "outputId": "7daaafa7-5823-4227-9e2b-b118fc670c6a"
      },
      "execution_count": null,
      "outputs": [
        {
          "output_type": "stream",
          "name": "stdout",
          "text": [
            "0 0\n",
            "25 75\n",
            "50 90\n",
            "75 105\n",
            "100 100\n",
            "125 95\n",
            "150 90\n",
            "175 85\n",
            "200 80\n"
          ]
        }
      ]
    },
    {
      "cell_type": "code",
      "source": [
        "t = '123456'"
      ],
      "metadata": {
        "id": "n6Xg5eSu1joB"
      },
      "execution_count": null,
      "outputs": []
    },
    {
      "cell_type": "code",
      "source": [
        "t[1:-1] == t[1:5] == t[1:len(t)-1]"
      ],
      "metadata": {
        "colab": {
          "base_uri": "https://localhost:8080/"
        },
        "id": "rsLOziHN1l2-",
        "outputId": "8fb1c855-af66-4509-ec1f-d7fa0bd7e0bd"
      },
      "execution_count": null,
      "outputs": [
        {
          "output_type": "execute_result",
          "data": {
            "text/plain": [
              "True"
            ]
          },
          "metadata": {},
          "execution_count": 5
        }
      ]
    },
    {
      "cell_type": "code",
      "source": [
        "months = {}\n",
        "\n",
        "names = [\"Jan\", \"Feb\", \"Mar\", \"Apr\", \"May\", \"Jun\", \"Jul\", \"Aug\", \"Sep\", \"Oct\", \"Nov\", \"Dec\"]\n",
        "numbers = [1, 2, 3, 4, 5, 6, 7, 8, 9, 10, 11, 12]\n",
        "\n",
        "for i in range(len(names)):\n",
        "  months[names[i]] = numbers[i]\n",
        "print(months)"
      ],
      "metadata": {
        "colab": {
          "base_uri": "https://localhost:8080/"
        },
        "id": "EP1xESrb43py",
        "outputId": "c6b8973e-9d12-43a0-cc22-c5b43b85c016"
      },
      "execution_count": 17,
      "outputs": [
        {
          "output_type": "stream",
          "name": "stdout",
          "text": [
            "{'Jan': 1, 'Feb': 2, 'Mar': 3, 'Apr': 4, 'May': 5, 'Jun': 6, 'Jul': 7, 'Aug': 8, 'Sep': 9, 'Oct': 10, 'Nov': 11, 'Dec': 12}\n"
          ]
        }
      ]
    }
  ]
}